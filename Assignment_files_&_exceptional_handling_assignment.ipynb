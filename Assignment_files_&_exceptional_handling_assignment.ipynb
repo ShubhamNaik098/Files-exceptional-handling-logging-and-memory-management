{
  "nbformat": 4,
  "nbformat_minor": 0,
  "metadata": {
    "colab": {
      "provenance": []
    },
    "kernelspec": {
      "name": "python3",
      "display_name": "Python 3"
    },
    "language_info": {
      "name": "python"
    }
  },
  "cells": [
    {
      "cell_type": "markdown",
      "source": [
        "**Theortical Questions**"
      ],
      "metadata": {
        "id": "X1MNrAEE-vul"
      }
    },
    {
      "cell_type": "markdown",
      "source": [
        "Q1.What is the difference between interpreted and compiled languages?"
      ],
      "metadata": {
        "id": "LIviTGPh-11g"
      }
    },
    {
      "cell_type": "markdown",
      "source": [
        "Ans. **Interpreted Language:** It means when the source code is executed line by line\n",
        "at runtime is called Interpreted.Python is a interpreted language where the interpreter compiles the code to bytecode first and then python executes this bytecode via a **Python Virtual Machine**.\n",
        "**Compiled Language:** It means when the source code is executed automatically first time a script is run.In this the compiler converts the source code into the machine code"
      ],
      "metadata": {
        "id": "lJxqePXz-6R6"
      }
    },
    {
      "cell_type": "markdown",
      "source": [
        "Q2.What is exception handling in Python?"
      ],
      "metadata": {
        "id": "iZue7EWx35my"
      }
    },
    {
      "cell_type": "markdown",
      "source": [
        "Ans. An Exception in python is an event that occurs during programme execution that disrupts the regular flow of code.Handling that exception is called a exception handling."
      ],
      "metadata": {
        "id": "yPw6BbgY38hg"
      }
    },
    {
      "cell_type": "markdown",
      "source": [
        "Q3.What is the purpose of the finally block in exception handling?"
      ],
      "metadata": {
        "id": "ppimrE4141el"
      }
    },
    {
      "cell_type": "markdown",
      "source": [
        "Ans.Finally bloack: This block will always be executed regardless of whether an exception was raised or not in the try block."
      ],
      "metadata": {
        "id": "KwI8ebTL47KM"
      }
    },
    {
      "cell_type": "markdown",
      "source": [
        "Q4.What is logging in Python?"
      ],
      "metadata": {
        "id": "nImEve6G5ocO"
      }
    },
    {
      "cell_type": "markdown",
      "source": [
        "Ans. Logging in Python is a built-in module (logging) that provides a flexible framework for emitting log messages from your programs. These messages can be used to track events that happen during program execution, which is useful for debugging, monitoring, and understanding program flow.\n",
        "\n",
        "Logging allows you to record information about your program’s operation, such as errors, warnings, or informational messages etc."
      ],
      "metadata": {
        "id": "fDEjYc135u4m"
      }
    },
    {
      "cell_type": "markdown",
      "source": [
        "Q5.What is the significance of the __del__ method in Python?"
      ],
      "metadata": {
        "id": "4bi923FW6VmW"
      }
    },
    {
      "cell_type": "markdown",
      "source": [
        "Ans.The __del__ method in Python is a special method known as a destructor. It is called when an object is about to be destroyed, meaning when its reference count drops to zero and it is no longer accessible. This is part of the garbage collection mechanism in Python, which automatically cleans up objects that are no longer in use."
      ],
      "metadata": {
        "id": "Y_GF2McM6azT"
      }
    },
    {
      "cell_type": "markdown",
      "source": [
        "Q6.What is the difference between import and from ... import in Python?"
      ],
      "metadata": {
        "id": "g7s5EVnC6sPy"
      }
    },
    {
      "cell_type": "markdown",
      "source": [
        "Ans.In Python, the **import** statement is used to bring external modules or specific parts of a module into the current namespace, allowing you to use their functions, classes, and variables.\n",
        "\n",
        "The **from ... import** statement allows you to import specific functions, classes, or variables directly into your namespace, without needing to prefix the module name."
      ],
      "metadata": {
        "id": "iMCHd9yy6xv4"
      }
    },
    {
      "cell_type": "markdown",
      "source": [
        "Q7.How can you handle multiple exceptions in Python?"
      ],
      "metadata": {
        "id": "NI1P1pD_7Wbp"
      }
    },
    {
      "cell_type": "markdown",
      "source": [
        "Ans. 1. Handling Multiple Exceptions in a Single except Block:\n",
        "\n",
        "2.Using Multiple except Blocks:\n",
        "\n",
        "3.Handling Multiple Exceptions with Different Actions:\n",
        "\n",
        "4.Using else Block for No Exceptions:\n",
        "\n",
        "5.Using finally for Cleanup:\n",
        "\n",
        "6.Exception Chaining (Using from):\n",
        "\n",
        "7.Catching All Exceptions (Not Recommended):"
      ],
      "metadata": {
        "id": "rwA3N8JG7afZ"
      }
    },
    {
      "cell_type": "markdown",
      "source": [
        "Q8.What is the purpose of the with statement when handling files in Python?"
      ],
      "metadata": {
        "id": "zsEk91ik8aDy"
      }
    },
    {
      "cell_type": "markdown",
      "source": [
        "Ans.The with statement in Python is used for context management, providing a way to wrap the execution of a block of code with methods defined by a context manager. When handling files, the primary purpose of the with statement is to ensure proper resource management by automatically handling the opening and closing of files, even if errors occur within the code block."
      ],
      "metadata": {
        "id": "vFqeIsCN8dhl"
      }
    },
    {
      "cell_type": "markdown",
      "source": [
        "Q9.What is the difference between multithreading and multiprocessing?"
      ],
      "metadata": {
        "id": "dyK89hRD9aYY"
      }
    },
    {
      "cell_type": "markdown",
      "source": [
        "Ans.**Multithreading**\n",
        "\n",
        "**1.Definition:** It refers to running multiple threads (smaller units of a process) within a single process. All threads within a process share the same memory space.\n",
        "\n",
        "\n",
        "**2.Concurrency:** It allows concurrency, meaning multiple tasks can be in progress at the same time, but they may not necessarily run at the exact same time, especially in Python due to the Global Interpreter Lock (GIL).\n",
        "\n",
        "**3.Use Cases:** It is use in input/output process like downloading the file.\n",
        "\n",
        "**4.Memory Sharing:** All threads share the same memory space, which makes it easier to share data between threads but also introduces potential issues like race conditions.\n",
        "\n",
        "**Multiprocessing**\n",
        "\n",
        "**1.Definition:** It involves multiple cores/processors and each processor has its own memory space and resource which are isolated from other process.\n",
        "\n",
        "**2.Concurrency and Parallelism:** It is truly parallel on multiple CPU cores\n",
        "[No GIL]\n",
        "\n",
        "**3.Use Cases:** Suitable for tasks that are independent and can run isolation\n",
        "e.g. some computation, server handling, multiple request simultaneously.\n",
        "\n",
        "**Memory Isolation:** Each process has its own memory space, so there's no shared memory. Communication between processes typically happens via inter-process communication (IPC) mechanisms such as pipes, queues, or shared memory.\n"
      ],
      "metadata": {
        "id": "nvDe1x459eFR"
      }
    },
    {
      "cell_type": "markdown",
      "source": [
        "Q10.What are the advantages of using logging in a program?"
      ],
      "metadata": {
        "id": "1Qs3ykjpDAc3"
      }
    },
    {
      "cell_type": "markdown",
      "source": [
        "Ans."
      ],
      "metadata": {
        "id": "2et4yMYlDEs4"
      }
    },
    {
      "cell_type": "markdown",
      "source": [
        "Q11.What is memory management in Python?"
      ],
      "metadata": {
        "id": "dJt_MaN7Fb0u"
      }
    },
    {
      "cell_type": "markdown",
      "source": [
        "Ans.Memory management in Python refers to the process of efficiently managing the memory used by a Python program.Python handles memory allocation, deallocation, and garbage collection automatically to a large extent, making it easier for developers to focus on application logic rather than worrying about memory management.Python provides tools like the gc module to interact with the garbage collector and inspect memory usage."
      ],
      "metadata": {
        "id": "1ONTqQvdFf4X"
      }
    },
    {
      "cell_type": "markdown",
      "source": [
        "Q12.What are the basic steps involved in exception handling in Python?"
      ],
      "metadata": {
        "id": "vpSKoD0wF-st"
      }
    },
    {
      "cell_type": "markdown",
      "source": [
        "Ans.  **try Block:** Place code that might cause an exception here.\n",
        "\n",
        "**except Block:** Catch specific exceptions and handle them.\n",
        "\n",
        "**else Block:** Optional. Executes if no exception was raised.\n",
        "\n",
        "**finally Block:** Optional. Executes regardless of whether an exception occurred, usually for cleanup.\n"
      ],
      "metadata": {
        "id": "Yru9mMHHGCn5"
      }
    },
    {
      "cell_type": "markdown",
      "source": [
        "Q13.Why is memory management important in Python?"
      ],
      "metadata": {
        "id": "C9bTRh0yGe-j"
      }
    },
    {
      "cell_type": "markdown",
      "source": [
        "Ans."
      ],
      "metadata": {
        "id": "d4AzfPO9GnF9"
      }
    },
    {
      "cell_type": "markdown",
      "source": [
        "Q14.What is the role of try and except in exception handling?"
      ],
      "metadata": {
        "id": "S9M0yzBCGqSi"
      }
    },
    {
      "cell_type": "markdown",
      "source": [
        "Ans.**try:** The try block allows you to specify the code you want to \"test\" for errors.\n",
        "\n",
        "If no error occurs, the code in the try block is executed completely, and the program proceeds without entering the except block.\n",
        "\n",
        "If an error occurs within the try block, the program stops executing further statements in that block and looks for an except block to handle the exception.\n",
        "\n",
        "**except:** The except block allows you to handle specific exceptions (or catch all exceptions if none are specified) and define what actions to take in response.\n",
        "\n",
        "You can catch multiple types of exceptions and handle them differently by specifying different except blocks.\n",
        "\n",
        "If an exception occurs in the try block, the program jumps to the first matching except block. If no except block matches, Python raises an error."
      ],
      "metadata": {
        "id": "nnFLG_HzGvHq"
      }
    },
    {
      "cell_type": "markdown",
      "source": [
        "Q15.How does Python's garbage collection system work?"
      ],
      "metadata": {
        "id": "RHxGjJ7VIIlw"
      }
    },
    {
      "cell_type": "markdown",
      "source": [
        "Ans."
      ],
      "metadata": {
        "id": "p6msG6MXIMXu"
      }
    },
    {
      "cell_type": "markdown",
      "source": [
        "Q16.What is the purpose of the else block in exception handling?"
      ],
      "metadata": {
        "id": "k9bNhiNkIOzb"
      }
    },
    {
      "cell_type": "markdown",
      "source": [
        "Ans.The else block in Python's exception handling is used to define code that should only execute if no exception occurred in the corresponding try block. It provides a way to specify actions that should be taken when the code inside the try block runs successfully without any errors."
      ],
      "metadata": {
        "id": "opphSkjfISai"
      }
    },
    {
      "cell_type": "markdown",
      "source": [
        "Q17.What are the common logging levels in Python?"
      ],
      "metadata": {
        "id": "SlxBuyCpIixa"
      }
    },
    {
      "cell_type": "markdown",
      "source": [
        "Ans.**1.DEBUG:** It is a lowest level of logging. To give detailed information of any variables, msg, while doing debugging.\n",
        "\n",
        "**2.INFO:** This is used to convey that the code is working as excepted e.g. \"Data analysis is completed\"\n",
        "\n",
        "**3.WARNING:** Used to indicate that something unexpected happened or potential issue in the code.\n",
        "\n",
        "**4.ERROR:** Serious problem with some function.\n",
        "\n",
        "**5.CRITICAL:** Termination of program/code/software/."
      ],
      "metadata": {
        "id": "iWaIgYYTInNs"
      }
    },
    {
      "cell_type": "markdown",
      "source": [
        "Q18.What is the difference between os.fork() and multiprocessing in Python?"
      ],
      "metadata": {
        "id": "knB38MtiKQtE"
      }
    },
    {
      "cell_type": "markdown",
      "source": [
        "Ans."
      ],
      "metadata": {
        "id": "qUP6bhnpKUpJ"
      }
    },
    {
      "cell_type": "markdown",
      "source": [
        "Q19.What is the importance of closing a file in Python?"
      ],
      "metadata": {
        "id": "O29U6PenKXd6"
      }
    },
    {
      "cell_type": "markdown",
      "source": [
        "Ans.**Release System Resources:** Ensures that file handles are freed up and available for other processes.\n",
        "\n",
        "**Data Integrity:** Guarantees that all written data is saved to the file, avoiding data loss.\n",
        "\n",
        "**Prevents File Corruption:** Avoids leaving the file in an inconsistent or incomplete state.\n",
        "\n",
        "**Performance:** Helps optimize memory and resource usage.\n",
        "\n",
        "**Error Handling:** Ensures proper cleanup, even when exceptions occur."
      ],
      "metadata": {
        "id": "auq5HQfhKZuA"
      }
    },
    {
      "cell_type": "markdown",
      "source": [
        "Q20.What is the difference between file.read() and file.readline() in Python?"
      ],
      "metadata": {
        "id": "1w1FYpH7K6WH"
      }
    },
    {
      "cell_type": "markdown",
      "source": [
        "Ans.**file.read()** It will only read the first line.\n",
        "\n",
        "**file.readline()** It will read everything from starting."
      ],
      "metadata": {
        "id": "3lEcwFHwK-PW"
      }
    },
    {
      "cell_type": "markdown",
      "source": [
        "Q21.What is the logging module in Python used for?"
      ],
      "metadata": {
        "id": "C0jQwmU-Lej0"
      }
    },
    {
      "cell_type": "markdown",
      "source": [
        "Ans.is used to log messages from your application to track events, errors, and information during the execution of a program.It provides a flexible framework for generating log messages with various levels of severity, storing those logs, and optionally sending them to different destinations such as console output, files, or external systems."
      ],
      "metadata": {
        "id": "tgWC1cYrLj60"
      }
    },
    {
      "cell_type": "markdown",
      "source": [
        "Q22.What is the os module in Python used for in file handling?"
      ],
      "metadata": {
        "id": "7GLVJZTPMM4o"
      }
    },
    {
      "cell_type": "markdown",
      "source": [
        "Ans.The os module in Python provides a way to interact with the operating system and perform various file and directory operations. It is a very useful module for managing files and directories, as well as performing other tasks related to system-level operations.\n",
        "\n",
        "This module is helpful in various activities\n",
        "\n",
        "1.Create a directory\n",
        "\n",
        "2.Create a file inside that directory\n",
        "\n",
        "3.Write to the file\n",
        "\n",
        "4.Read from the file\n",
        "\n",
        "5.List the files in the directory\n",
        "\n",
        "6.Delete the file and directory\n",
        "\n",
        "7.python\n",
        "\n",
        "8.Copy\n",
        "\n",
        "9.Edit\n"
      ],
      "metadata": {
        "id": "Juyd2yz6MR15"
      }
    },
    {
      "cell_type": "markdown",
      "source": [
        "Q23.What are the challenges associated with memory management in Python?"
      ],
      "metadata": {
        "id": "dcRO2u6INRAc"
      }
    },
    {
      "cell_type": "markdown",
      "source": [
        "Ans."
      ],
      "metadata": {
        "id": "UfFEDymsNVds"
      }
    },
    {
      "cell_type": "markdown",
      "source": [
        "Q24.How do you raise an exception manually in Python?"
      ],
      "metadata": {
        "id": "IX5_zWqFNXDP"
      }
    },
    {
      "cell_type": "markdown",
      "source": [
        "Ans.In Python, you can manually raise an exception using the raise keyword. This is useful when you want to signal that something has gone wrong or when you need to enforce certain conditions in your code.\n",
        "\n",
        "You can raise both built-in and custom exceptions.\n",
        "\n",
        "Raising exceptions helps to handle error situations and control the flow of the program when unexpected events occur.\n",
        "\n",
        "Use try and except to catch and handle raised exceptions in your program."
      ],
      "metadata": {
        "id": "g70XKrsmNcyx"
      }
    },
    {
      "cell_type": "markdown",
      "source": [
        "Q25.Why is it important to use multithreading in certain applications?"
      ],
      "metadata": {
        "id": "BO_5RG1xN617"
      }
    },
    {
      "cell_type": "markdown",
      "source": [
        "Ans."
      ],
      "metadata": {
        "id": "Y8sKL7rLN_K1"
      }
    },
    {
      "cell_type": "markdown",
      "source": [
        "**Practical Question**"
      ],
      "metadata": {
        "id": "Ti-WEv41TIvz"
      }
    },
    {
      "cell_type": "markdown",
      "source": [
        "Q1. How can you open a file for writing in Python and write a string to it?"
      ],
      "metadata": {
        "id": "lP3BW6zWTNMs"
      }
    },
    {
      "cell_type": "code",
      "source": [
        "with open(\"File.txt\",\"w\") as file:\n",
        "  file.write(\"Hello, this is a string written to the file!\")"
      ],
      "metadata": {
        "id": "kuy-tCRWTRR4"
      },
      "execution_count": null,
      "outputs": []
    },
    {
      "cell_type": "markdown",
      "source": [
        "Q2.Write a Python program to read the contents of a file and print each line."
      ],
      "metadata": {
        "id": "rcMzGMBTZQ8U"
      }
    },
    {
      "cell_type": "code",
      "source": [
        "with open('File.txt', 'r') as file:\n",
        "    for line in file:\n",
        "        print(line, end='')"
      ],
      "metadata": {
        "colab": {
          "base_uri": "https://localhost:8080/"
        },
        "id": "3_oMGQ3PZYmV",
        "outputId": "bd8101a5-a7fe-4369-c85f-6db176445ff9"
      },
      "execution_count": null,
      "outputs": [
        {
          "output_type": "stream",
          "name": "stdout",
          "text": [
            "Hello, this is a string written to the file!"
          ]
        }
      ]
    },
    {
      "cell_type": "markdown",
      "source": [
        "Q3.How would you handle a case where the file doesn't exist while trying to open it for reading?"
      ],
      "metadata": {
        "id": "KgG1rpfkZ8Vk"
      }
    },
    {
      "cell_type": "code",
      "source": [
        "try:\n",
        "    with open('file.txt', 'r') as file:\n",
        "        for line in file:\n",
        "            print(line, end='')\n",
        "except FileNotFoundError:\n",
        "    print(\"Error: The file does not exist.\")"
      ],
      "metadata": {
        "colab": {
          "base_uri": "https://localhost:8080/"
        },
        "id": "-gnChV9TZ-P5",
        "outputId": "8359a85c-0b07-4a74-f02e-3490c1173bf1"
      },
      "execution_count": null,
      "outputs": [
        {
          "output_type": "stream",
          "name": "stdout",
          "text": [
            "Error: The file does not exist.\n"
          ]
        }
      ]
    },
    {
      "cell_type": "markdown",
      "source": [
        "Q4.Write a Python script that reads from one file and writes its content to another file."
      ],
      "metadata": {
        "id": "-JVh0avsac9j"
      }
    },
    {
      "cell_type": "code",
      "source": [
        "try:\n",
        "    with open('source.txt', 'r') as source_file:\n",
        "        with open('destination.txt', 'w') as destination_file:\n",
        "            content = source_file.read()\n",
        "            destination_file.write(content)\n",
        "\n",
        "    print(\"Content has been copied successfully.\")\n",
        "\n",
        "except FileNotFoundError:\n",
        "    print(\"Error: The source file does not exist.\")\n",
        "except IOError as e:\n",
        "    print(f\"Error: An I/O error occurred. Details: {e}\")"
      ],
      "metadata": {
        "id": "8tTXmO4bajCE"
      },
      "execution_count": null,
      "outputs": []
    },
    {
      "cell_type": "markdown",
      "source": [
        "Q5.How would you catch and handle division by zero error in Python?"
      ],
      "metadata": {
        "id": "rtAYMhPRemKZ"
      }
    },
    {
      "cell_type": "code",
      "source": [
        "try:\n",
        "  10/0\n",
        "except ZeroDivisionError:\n",
        "  print(\"Error: Division by zero is not allowed.\")"
      ],
      "metadata": {
        "colab": {
          "base_uri": "https://localhost:8080/"
        },
        "id": "RX-mnFurepuJ",
        "outputId": "aac2c1e1-4363-4878-def9-662a79fa2412"
      },
      "execution_count": null,
      "outputs": [
        {
          "output_type": "stream",
          "name": "stdout",
          "text": [
            "Error: Division by zero is not allowed.\n"
          ]
        }
      ]
    },
    {
      "cell_type": "markdown",
      "source": [
        "Q6.Write a Python program that logs an error message to a log file when a division by zero exception occurs"
      ],
      "metadata": {
        "id": "hHvQ-nl1ezR1"
      }
    },
    {
      "cell_type": "code",
      "source": [
        "import logging\n",
        "\n",
        "logging.basicConfig(filename='error_log.txt', level=logging.ERROR, format='%(asctime)s - %(levelname)s - %(message)s')\n",
        "\n",
        "try:\n",
        "  result = 10/0\n",
        "except ZeroDivisionError as e:\n",
        "  logging.error(\"Error: Division by zero is not allowed: %s\",e)\n",
        "print(\"All is well\")"
      ],
      "metadata": {
        "colab": {
          "base_uri": "https://localhost:8080/"
        },
        "id": "jl4Exn0Ce168",
        "outputId": "ea62fd5b-fc44-46ee-d8e4-e074efc84591"
      },
      "execution_count": null,
      "outputs": [
        {
          "output_type": "stream",
          "name": "stderr",
          "text": [
            "ERROR:root:Error: Division by zero is not allowed: division by zero\n"
          ]
        },
        {
          "output_type": "stream",
          "name": "stdout",
          "text": [
            "All is well\n"
          ]
        }
      ]
    },
    {
      "cell_type": "markdown",
      "source": [
        "Q7.How do you log information at different levels (INFO, ERROR, WARNING) in Python using the logging module?"
      ],
      "metadata": {
        "id": "oqyAPDrXhAAb"
      }
    },
    {
      "cell_type": "code",
      "source": [
        "import logging\n",
        "\n",
        "logging.basicConfig(filename='app_log.txt', level=logging.DEBUG, format='%(asctime)s - %(levelname)s - %(message)s')\n",
        "logging.info(\"This is an info message.\")\n",
        "logging.warning(\"This is a warning message.\")\n",
        "logging.error(\"This is an error message.\")\n",
        "logging.shutdown()"
      ],
      "metadata": {
        "colab": {
          "base_uri": "https://localhost:8080/"
        },
        "id": "P8yVJbuihE0O",
        "outputId": "717c48e1-9413-4828-ee87-7db14fc94fd1"
      },
      "execution_count": null,
      "outputs": [
        {
          "output_type": "stream",
          "name": "stderr",
          "text": [
            "WARNING:root:This is a warning message.\n",
            "ERROR:root:This is an error message.\n"
          ]
        }
      ]
    },
    {
      "cell_type": "markdown",
      "source": [
        "Q8. Write a program to handle a file opening error using exception handling?"
      ],
      "metadata": {
        "id": "42xDaX6jigAd"
      }
    },
    {
      "cell_type": "code",
      "source": [
        "try:\n",
        "    with open('nonexistent_file.txt', 'r') as file:\n",
        "        content = file.read()\n",
        "        print(content)\n",
        "except FileNotFoundError:\n",
        "    print(\"Error: The file does not exist. Please check the file name or path.\")\n",
        "except IOError as e:\n",
        "    print(f\"Error: An I/O error occurred. Details: {e}\")"
      ],
      "metadata": {
        "colab": {
          "base_uri": "https://localhost:8080/"
        },
        "id": "wNAfZLA6ikL0",
        "outputId": "0b06dd0c-af21-43d6-c0e8-b8ef9b1942c6"
      },
      "execution_count": null,
      "outputs": [
        {
          "output_type": "stream",
          "name": "stdout",
          "text": [
            "Error: The file does not exist. Please check the file name or path.\n"
          ]
        }
      ]
    },
    {
      "cell_type": "markdown",
      "source": [
        "Q9. How can you read a file line by line and store its content in a list in Python?"
      ],
      "metadata": {
        "id": "D_nZt5ZojoWZ"
      }
    },
    {
      "cell_type": "code",
      "source": [
        "with open('File.txt', 'w') as file:\n",
        "    file.write(\"Hello, this is a string written to the file!\")\n",
        "\n",
        "with open('File.txt', 'r') as file:\n",
        "    lines = []\n",
        "    for line in file:\n",
        "        lines.append(line.strip())\n",
        "    print(lines)"
      ],
      "metadata": {
        "colab": {
          "base_uri": "https://localhost:8080/"
        },
        "id": "kk_K-5GmjtJT",
        "outputId": "4608a789-e29d-4119-a463-9a76fe573088"
      },
      "execution_count": null,
      "outputs": [
        {
          "output_type": "stream",
          "name": "stdout",
          "text": [
            "['Hello, this is a string written to the file!']\n"
          ]
        }
      ]
    },
    {
      "cell_type": "markdown",
      "source": [
        "Q10.How can you append data to an existing file in Python?"
      ],
      "metadata": {
        "id": "5GHSRxt7kjJX"
      }
    },
    {
      "cell_type": "code",
      "source": [
        "with open('File.txt', 'w') as file:\n",
        "    file.write(\"Hello, this is a string written to the file!\")\n",
        "\n",
        "with open('File.txt', 'a') as file:\n",
        "    file.write(\"appending the string\")\n",
        "\n",
        "with open(\"File.txt\",\"r\") as file:\n",
        "  print(file.read())"
      ],
      "metadata": {
        "colab": {
          "base_uri": "https://localhost:8080/"
        },
        "id": "kyFdg5MiknNO",
        "outputId": "c00caa82-7252-4190-ff06-d04b9567f302"
      },
      "execution_count": null,
      "outputs": [
        {
          "output_type": "stream",
          "name": "stdout",
          "text": [
            "Hello, this is a string written to the file!appending the string\n"
          ]
        }
      ]
    },
    {
      "cell_type": "markdown",
      "source": [
        "Q11.Write a Python program that uses a try-except block to handle an error when attempting to access a dictionary key that doesn't exist."
      ],
      "metadata": {
        "id": "5_bkCvcOuVJH"
      }
    },
    {
      "cell_type": "code",
      "source": [
        "my_dict = {\"name\": \"Alice\", \"age\": 30}\n",
        "\n",
        "try:\n",
        "    value = my_dict[\"address\"]\n",
        "except KeyError:\n",
        "    print(\"Error: The key 'address' does not exist in the dictionary.\")\n",
        "else:\n",
        "    print(\"The value is:\", value)"
      ],
      "metadata": {
        "colab": {
          "base_uri": "https://localhost:8080/"
        },
        "id": "O6XYu_d6ubPR",
        "outputId": "6e98f64e-bb62-449a-f0f1-a644cae4d85f"
      },
      "execution_count": 35,
      "outputs": [
        {
          "output_type": "stream",
          "name": "stdout",
          "text": [
            "Error: The key 'address' does not exist in the dictionary.\n"
          ]
        }
      ]
    },
    {
      "cell_type": "markdown",
      "source": [
        "Q12.Write a program that demonstrates using multiple except blocks to handle different types of exceptions."
      ],
      "metadata": {
        "id": "2TjtazT5u1sv"
      }
    },
    {
      "cell_type": "code",
      "source": [
        "try:\n",
        "    10/int(\"some\")\n",
        "except ZeroDivisionError as e:\n",
        "    print(\"Error: Division by zero is not allowed.\",e)\n",
        "except ValueError as e:\n",
        "    print(\"An unexpected error occurred:\",e)"
      ],
      "metadata": {
        "colab": {
          "base_uri": "https://localhost:8080/"
        },
        "id": "2_9ZMPTqu4nx",
        "outputId": "cb7a7688-7eb4-41d6-dabd-fb947ca0c724"
      },
      "execution_count": 39,
      "outputs": [
        {
          "output_type": "stream",
          "name": "stdout",
          "text": [
            "An unexpected error occurred: invalid literal for int() with base 10: 'some'\n"
          ]
        }
      ]
    },
    {
      "cell_type": "markdown",
      "source": [
        "Q13.How would you check if a file exists before attempting to read it in Python?"
      ],
      "metadata": {
        "id": "YypEylU7vir3"
      }
    },
    {
      "cell_type": "code",
      "source": [
        "import os\n",
        "\n",
        "filename = \"example.txt\"\n",
        "\n",
        "if os.path.exists(filename):\n",
        "    try:\n",
        "        with open(filename, 'r') as file:\n",
        "            content = file.read()\n",
        "            print(\"File content:\", content)\n",
        "    except Exception as e:\n",
        "        print(\"An error occurred while reading the file:\", e)\n",
        "else:\n",
        "    print(f\"The file {filename} does not exist.\")"
      ],
      "metadata": {
        "colab": {
          "base_uri": "https://localhost:8080/"
        },
        "id": "Ltg3VkfhvlzE",
        "outputId": "8e15db02-d629-4e2d-f761-81605e48db05"
      },
      "execution_count": 40,
      "outputs": [
        {
          "output_type": "stream",
          "name": "stdout",
          "text": [
            "The file example.txt does not exist.\n"
          ]
        }
      ]
    },
    {
      "cell_type": "markdown",
      "source": [
        "Q14.Write a program that uses the logging module to log both informational and error messages."
      ],
      "metadata": {
        "id": "FoMJX6d5v2ki"
      }
    },
    {
      "cell_type": "code",
      "source": [],
      "metadata": {
        "id": "1pivQl8Fv64B"
      },
      "execution_count": null,
      "outputs": []
    },
    {
      "cell_type": "markdown",
      "source": [
        "Q15.Write a Python program that prints the content of a file and handles the case when the file is empty."
      ],
      "metadata": {
        "id": "FFpea-I6v8ch"
      }
    },
    {
      "cell_type": "code",
      "source": [
        "with open('file1.txt', 'w') as file:\n",
        "    file.write(\"Hello, this is a string written to the file!\")\n",
        "try:\n",
        "  with open('file1.txt', 'r') as file:\n",
        "    content = file.read()\n",
        "    if content:\n",
        "        print(\"File content:\", content)\n",
        "    else:\n",
        "        print(\"The file is empty.\",content)\n",
        "except FileNotFoundError:\n",
        "    print(\"Error: The file does not exist.\")\n",
        "except IOError as e:\n",
        "    print(f\"Error: An I/O error occurred. Details: {e}\")"
      ],
      "metadata": {
        "colab": {
          "base_uri": "https://localhost:8080/"
        },
        "id": "2Q_eM_s6wBX1",
        "outputId": "f1d3c31c-bf42-48a7-b405-a874ed25fc73"
      },
      "execution_count": 48,
      "outputs": [
        {
          "output_type": "stream",
          "name": "stdout",
          "text": [
            "File content: Hello, this is a string written to the file!\n"
          ]
        }
      ]
    },
    {
      "cell_type": "markdown",
      "source": [
        "Q16. Demonstrate how to use memory profiling to check the memory usage of a small program."
      ],
      "metadata": {
        "id": "sZjqWaDexV19"
      }
    },
    {
      "cell_type": "code",
      "source": [],
      "metadata": {
        "id": "HAIEKM_7xaLh"
      },
      "execution_count": null,
      "outputs": []
    },
    {
      "cell_type": "markdown",
      "source": [
        "Q17. Write a Python program to create and write a list of numbers to a file, one number per line."
      ],
      "metadata": {
        "id": "BjwFhLhqxcdz"
      }
    },
    {
      "cell_type": "code",
      "source": [
        "def write_numbers_to_file(numbers, filename):\n",
        "  try:\n",
        "    with open(filename, 'w') as file:\n",
        "        for number in numbers:\n",
        "            file.write(str(number) + '\\n')\n",
        "    print(\"Number are printed\",number)\n",
        "  except Exception as e:\n",
        "    print(\"Error:\",e)\n",
        "numbers = [1, 2, 3, 4, 5]\n",
        "filename = 'numbers.txt'\n",
        "write_numbers_to_file(numbers, filename)"
      ],
      "metadata": {
        "colab": {
          "base_uri": "https://localhost:8080/"
        },
        "id": "cAQjdM_qxfwD",
        "outputId": "8f3c1efc-c18e-4552-a87f-38701f09c4e5"
      },
      "execution_count": 50,
      "outputs": [
        {
          "output_type": "stream",
          "name": "stdout",
          "text": [
            "Number are printed 5\n"
          ]
        }
      ]
    },
    {
      "cell_type": "markdown",
      "source": [
        "Q18. How would you implement a basic logging setup that logs to a file with rotation after 1MB?"
      ],
      "metadata": {
        "id": "CmQLHkCly89j"
      }
    },
    {
      "cell_type": "code",
      "source": [],
      "metadata": {
        "id": "AcwUs7eJzCCI"
      },
      "execution_count": null,
      "outputs": []
    },
    {
      "cell_type": "markdown",
      "source": [
        "Q19.Write a program that handles both IndexError and KeyError using a try-except block."
      ],
      "metadata": {
        "id": "gfBGlCTNzCXI"
      }
    },
    {
      "cell_type": "code",
      "source": [
        "def handle_errors():\n",
        "    my_list = [10, 20, 30]\n",
        "    my_dict = {\"name\": \"Alice\", \"age\": 25}\n",
        "\n",
        "    try:\n",
        "        print(my_list[5])\n",
        "        print(my_dict[\"address\"])\n",
        "\n",
        "    except IndexError:\n",
        "        print(\"Error: List index out of range.\")\n",
        "    except KeyError:\n",
        "        print(\"Error: Key does not exist in the dictionary.\")\n",
        "    except Exception as e:\n",
        "        print(f\"An unexpected error occurred: {e}\")\n",
        "handle_errors()\n"
      ],
      "metadata": {
        "colab": {
          "base_uri": "https://localhost:8080/"
        },
        "id": "8MsL_6HRzGAG",
        "outputId": "98657d90-725b-4e94-ea15-52383cd13107"
      },
      "execution_count": 54,
      "outputs": [
        {
          "output_type": "stream",
          "name": "stdout",
          "text": [
            "Error: List index out of range.\n"
          ]
        }
      ]
    },
    {
      "cell_type": "markdown",
      "source": [
        "Q20.How would you open a file and read its contents using a context manager in Python?"
      ],
      "metadata": {
        "id": "DXhSoM-pziXY"
      }
    },
    {
      "cell_type": "code",
      "source": [
        "def read_file_contents(filename):\n",
        "    try:\n",
        "        with open(filename, 'r') as file:\n",
        "            content = file.read()\n",
        "            print(\"File content:\")\n",
        "            print(content)\n",
        "    except FileNotFoundError:\n",
        "        print(f\"The file {filename} does not exist.\")\n",
        "    except Exception as e:\n",
        "        print(f\"An error occurred: {e}\")\n",
        "\n",
        "filename = \"example.txt\"\n",
        "read_file_contents(filename)\n"
      ],
      "metadata": {
        "colab": {
          "base_uri": "https://localhost:8080/"
        },
        "id": "HU2JntUGzmrP",
        "outputId": "31dbaff6-bf58-402c-f4bf-e1c9299e1fc7"
      },
      "execution_count": 55,
      "outputs": [
        {
          "output_type": "stream",
          "name": "stdout",
          "text": [
            "The file example.txt does not exist.\n"
          ]
        }
      ]
    },
    {
      "cell_type": "markdown",
      "source": [
        "Q21.Write a Python program that reads a file and prints the number of occurrences of a specific word."
      ],
      "metadata": {
        "id": "LGBeMViVzzsP"
      }
    },
    {
      "cell_type": "code",
      "source": [],
      "metadata": {
        "id": "bQJ1BNSOz3yu"
      },
      "execution_count": null,
      "outputs": []
    },
    {
      "cell_type": "markdown",
      "source": [
        "Q22. How can you check if a file is empty before attempting to read its contents?"
      ],
      "metadata": {
        "id": "3bcT8Erfz8rA"
      }
    },
    {
      "cell_type": "code",
      "source": [
        "import os\n",
        "\n",
        "filename = \"example.txt\"\n",
        "\n",
        "if os.path.exists(filename):\n",
        "    try:\n",
        "        with open(filename, 'r') as file:\n",
        "            content = file.read()\n",
        "            print(\"File content:\", content)\n",
        "    except Exception as e:\n",
        "        print(\"An error occurred while reading the file:\", e)\n",
        "else:\n",
        "    print(f\"The file {filename} does not exist.\")"
      ],
      "metadata": {
        "colab": {
          "base_uri": "https://localhost:8080/"
        },
        "id": "R8eZzc1q0Alr",
        "outputId": "cafb7bde-0d70-463d-cae6-6d317d4dc977"
      },
      "execution_count": 56,
      "outputs": [
        {
          "output_type": "stream",
          "name": "stdout",
          "text": [
            "The file example.txt does not exist.\n"
          ]
        }
      ]
    },
    {
      "cell_type": "markdown",
      "source": [
        "Q23.Write a Python program that writes to a log file when an error occurs during file handling."
      ],
      "metadata": {
        "id": "AbIOxpec0MyB"
      }
    },
    {
      "cell_type": "code",
      "source": [
        "import logging\n",
        "from datetime import datetime\n",
        "logging.basicConfig(filename=\"error_log.txt\", level=logging.ERROR,\n",
        "                    format=\"%(asctime)s - %(message)s\")\n",
        "\n",
        "def read_file_and_log_errors(filename):\n",
        "    try:\n",
        "        with open(filename, 'r') as file:\n",
        "            content = file.read()\n",
        "            print(content)\n",
        "    except Exception as e:\n",
        "        logging.error(f\"Error reading file '{filename}': {str(e)}\")\n",
        "        print(f\"An error occurred. Details have been logged.\")\n",
        "filename = \"example.txt\"\n",
        "read_file_and_log_errors(filename)\n"
      ],
      "metadata": {
        "colab": {
          "base_uri": "https://localhost:8080/"
        },
        "id": "D8_INicW0Qit",
        "outputId": "16522203-d014-463e-9f08-8715c0052470"
      },
      "execution_count": 57,
      "outputs": [
        {
          "output_type": "stream",
          "name": "stderr",
          "text": [
            "ERROR:root:Error reading file 'example.txt': [Errno 2] No such file or directory: 'example.txt'\n"
          ]
        },
        {
          "output_type": "stream",
          "name": "stdout",
          "text": [
            "An error occurred. Details have been logged.\n"
          ]
        }
      ]
    }
  ]
}